{
 "cells": [
  {
   "cell_type": "code",
   "execution_count": 6,
   "metadata": {
    "collapsed": true
   },
   "outputs": [],
   "source": [
    "import numpy as np\n",
    "from numpy import array\n",
    "import sympy\n",
    "from sympy import symbols,  cos, sin, pi, simplify, sqrt, atan2, acos, Transpose\n",
    "from sympy.matrices import Matrix"
   ]
  },
  {
   "cell_type": "code",
   "execution_count": 7,
   "metadata": {
    "collapsed": true
   },
   "outputs": [],
   "source": [
    "# Define DH param symbols\n",
    "q1, q2, q3, q4, q5, q6, q7 = symbols('q1:8') # theta_1\n",
    "d1, d2, d3, d4, d5, d6, d7 = symbols('d1:8') # d paramater\n",
    "a0, a1, a2, a3, a4, a5, a6 = symbols('a0:7')\n",
    "alpha0, alpha1, alpha2, alpha3, alpha4, alpha5, alpha6 = symbols('alpha0:7')\n",
    "\n",
    "\n",
    "# Joint angle symbols\n",
    "# theta1, theta2, theta3, theta4, theta5, theta6 = 0\n",
    "\n",
    "\n",
    "# Modified DH params\n",
    "dh = {alpha0:     0, a0:      0, d1:  0.75,\n",
    "      alpha1: -pi/2, a1:   0.35, d2:     0, q2: q2 - pi/2,\n",
    "      alpha2:     0, a2:   1.25, d3:     0,\n",
    "      alpha3: -pi/2, a3: -0.054, d4:  1.50,\n",
    "      alpha4:  pi/2, a4:      0, d5:     0,\n",
    "      alpha5: -pi/2, a5:      0, d6:     0,\n",
    "      alpha6:     0, a6:      0, d7: 0.303, q7: 0}\n",
    "\n",
    "# General rotations around axes\n",
    "\n",
    "R_z = Matrix([[       cos(q1),    -sin(q1),             0, 0],\n",
    "              [       sin(q1),     cos(q1),             0, 0],\n",
    "              [             0,           0,             1, 0],\n",
    "              [             0,           0,             0, 1]])\n",
    "R_y = Matrix([[       cos(q1),           0,       sin(q1), 0],\n",
    "              [             0,           1,             0, 0],\n",
    "              [      -sin(q1),           0,       cos(q1), 0],\n",
    "              [             0,           0,             0, 1]])\n",
    "R_x = Matrix([[             1,           0,             0, 0],\n",
    "              [             0,     cos(q1),      -sin(q1), 0],\n",
    "              [             0,     sin(q1),       cos(q1), 0],\n",
    "              [             0,           0,             0, 1]])\n",
    "\n",
    "# Define Modified DH Transformation matrix\n",
    "R_corr = simplify(R_z.evalf(subs={q1: pi}) * R_y.evalf(subs={q1: -pi/2}))"
   ]
  },
  {
   "cell_type": "code",
   "execution_count": 8,
   "metadata": {},
   "outputs": [
    {
     "name": "stdout",
     "output_type": "stream",
     "text": [
      "v2_3:  [0.0, 0.0, 1.25]\n",
      "z_axis:  [0, 0, 1]\n",
      "j3_wr:  [1.5, 0.0, -0.05400000000000005]\n",
      "v3_w:  [1.383, 0.0, 0.5830000000000002]\n",
      "theta2:  0.0\n",
      "theta3:  0.434927060211\n"
     ]
    }
   ],
   "source": [
    "import math\n",
    "\n",
    "def dotproduct(v1, v2):\n",
    "  return sum((a*b) for a, b in zip(v1, v2))\n",
    "\n",
    "def length(v):\n",
    "  return math.sqrt(dotproduct(v, v))\n",
    "\n",
    "def angle(v1, v2):\n",
    "  return math.acos(dotproduct(v1, v2) / (length(v1) * length(v2)))\n",
    "\n",
    "# dot with theta2\n",
    "z_axis = [0, 0, 1]\n",
    "\n",
    "# dot with theta3\n",
    "j3_wr = [1.85-0.35, 0.0-0.0, 1.946-2.0]\n",
    "\n",
    "pos_2 = [0.350, 0.000, 0.750]\n",
    "pos_3 = [0.350, 0.000, 2.000]\n",
    "pos_w = [1.733, 0.000, 2.583]\n",
    "\n",
    "v2_3 = [pos_3[0] - pos_2[0], pos_3[1] - pos_2[1], pos_3[2] - pos_2[2]]\n",
    "v3_w = [pos_w[0] - pos_3[0], pos_w[1] - pos_3[1], pos_w[2] - pos_3[2]]\n",
    "\n",
    "print \"v2_3: \", v2_3\n",
    "print \"z_axis: \", z_axis\n",
    "print \"j3_wr: \", j3_wr\n",
    "print \"v3_w: \", v3_w\n",
    "try:   \n",
    "    theta2 = angle(v2_3, z_axis)\n",
    "except ValueError:\n",
    "    theta2 = 0\n",
    "try:\n",
    "    theta3 = angle(j3_wr, v3_w)\n",
    "except ValueError:\n",
    "    theta3 = 0\n",
    "    \n",
    "print \"theta2: \", theta2\n",
    "print \"theta3: \", theta3"
   ]
  },
  {
   "cell_type": "code",
   "execution_count": 48,
   "metadata": {},
   "outputs": [
    {
     "name": "stdout",
     "output_type": "stream",
     "text": [
      "0.273876900111159 0.528160665159543 3.27010767865176\n",
      "Betas\n",
      "Beta1 1.47390354516126 Beta2 0.442410389010818\n",
      "Beta3 2.33462584779194 Beta4 1.60678078687695\n",
      "1.09242029774489 -0.345517607377184 -0.799813981079096\n"
     ]
    }
   ],
   "source": [
    "x,y,z = 1.801, 1.005, 1.148\n",
    "alpha,beta,gamma = 2.649, 0.683, 1.557 #(y,p,r)\n",
    "# x, y, z = -0.209973197041, 2.49999627205, 1.60003023044\n",
    "# alpha, beta, gamma = -0.000442585913517, 0.000232783125596, 0.000765804329612\n",
    "def find_wrist_center(px, py, pz, roll, pitch, yaw):\n",
    "    end_effector_length = 0.303\n",
    "    wx = px - (end_effector_length) * 1.0 * cos(yaw) * cos(pitch)\n",
    "    wy = py - (end_effector_length) * 1.0 * sin(yaw) * cos(pitch)\n",
    "    wz = pz - (end_effector_length) * -1.0 * sin(pitch)\n",
    "    return wx, wy, wz\n",
    "wx, wy, wz = find_wrist_center(x, y, z, alpha, beta, gamma)\n",
    "\n",
    "# wx, wy, wz = 1.85000000000000, 0.0, 1.94600000000000\n",
    "print wx, wy, wz\n",
    "\n",
    "\n",
    "dist_j3_wr = sqrt((1.85-0.35)*(1.85-0.35) + (1.946-2.0)*(1.946-2.0))\n",
    "\n",
    "# Testing\n",
    "# wx, wy, wz = 1.724, 1.526, 1.985\n",
    "# theta1\n",
    "theta1 = atan2(wy, wx)\n",
    "\n",
    "# Finding theta2\n",
    "# beta1\n",
    "s1 = sqrt(wx*wx + wy*wy) - dh[a1]\n",
    "s2 = wz - dh[d1]\n",
    "beta1 = atan2(s2, s1)\n",
    "\n",
    "# beta2\n",
    "s3 = sqrt(s1*s1 + s2*s2)\n",
    "s4 = sqrt(dh[a3]*dh[a3] + dh[d4]*dh[d4])\n",
    "beta2_d = (dh[a2]*dh[a2] + s3*s3 - s4*s4) / (2*dh[a2]*s3)\n",
    "beta2 = atan2(sqrt(1 - beta2_d*beta2_d), beta2_d)\n",
    "\n",
    "# theta2\n",
    "theta2 = pi/2 - beta1 - beta2\n",
    "\n",
    "# Finding theta3\n",
    "# beta3_intiial\n",
    "s3_initial = sqrt((1.85-dh[a1])*(1.85-dh[a1])+ (1.946-dh[d1])*(1.946-dh[d1]))\n",
    "s4_initial = s4\n",
    "beta4 = pi/2 - atan2(dh[a3], dh[d4])\n",
    "beta3_initial_d = (dh[a2]*dh[a2] + s4_initial*s4_initial - s3_initial*s3_initial) / (2.0*dh[a2]*s4_initial) \n",
    "beta3_initial = atan2(sqrt(1 - beta3_initial_d*beta3_initial_d), beta3_initial_d)\n",
    "# beta3_initial = 1.5348118667\n",
    "\n",
    "# beta3\n",
    "beta3_d = (dh[a2]*dh[a2] + s4*s4 - s3*s3) / (2.0*dh[a2]*s4)\n",
    "beta3 = atan2(sqrt(1 - beta3_d*beta3_d), beta3_d)\n",
    "\n",
    "# theta3\n",
    "theta3 = beta3_initial - beta3\n",
    "print \"Betas\"\n",
    "print \"Beta1\", beta1.evalf(), \"Beta2\", beta2.evalf()\n",
    "print \"Beta3\", beta3.evalf(), \"Beta4\", beta4.evalf()\n",
    "print theta1.evalf(), theta2.evalf(), theta3.evalf()"
   ]
  },
  {
   "cell_type": "code",
   "execution_count": null,
   "metadata": {
    "collapsed": true
   },
   "outputs": [],
   "source": []
  }
 ],
 "metadata": {
  "kernelspec": {
   "display_name": "Python 2",
   "language": "python",
   "name": "python2"
  },
  "language_info": {
   "codemirror_mode": {
    "name": "ipython",
    "version": 2
   },
   "file_extension": ".py",
   "mimetype": "text/x-python",
   "name": "python",
   "nbconvert_exporter": "python",
   "pygments_lexer": "ipython2",
   "version": "2.7.13"
  }
 },
 "nbformat": 4,
 "nbformat_minor": 2
}
