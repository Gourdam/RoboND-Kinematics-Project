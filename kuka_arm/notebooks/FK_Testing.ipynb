{
 "cells": [
  {
   "cell_type": "code",
   "execution_count": 1,
   "metadata": {
    "collapsed": true
   },
   "outputs": [],
   "source": [
    "import numpy as np\n",
    "from numpy import array\n",
    "from sympy import symbols,  cos, sin, pi, simplify, sqrt, atan2\n",
    "from sympy.matrices import Matrix"
   ]
  },
  {
   "cell_type": "code",
   "execution_count": 2,
   "metadata": {},
   "outputs": [
    {
     "name": "stdout",
     "output_type": "stream",
     "text": [
      "Finished simplifying R_corr\n",
      "finished subbing DH params\n"
     ]
    }
   ],
   "source": [
    "# Define DH param symbols\n",
    "q1, q2, q3, q4, q5, q6, q7 = symbols('q1:8') # theta_1\n",
    "d1, d2, d3, d4, d5, d6, d7 = symbols('d1:8') # d paramater\n",
    "a0, a1, a2, a3, a4, a5, a6 = symbols('a0:7')\n",
    "alpha0, alpha1, alpha2, alpha3, alpha4, alpha5, alpha6 = symbols('alpha0:7')\n",
    "\n",
    "\n",
    "# Joint angle symbols\n",
    "# theta1, theta2, theta3, theta4, theta5, theta6 = 0\n",
    "\n",
    "\n",
    "# Modified DH params\n",
    "s = {alpha0:        0, a0:      0, d1:  0.75,\n",
    "     alpha1: -np.pi/2, a1:   0.35, d2:     0, q2: q2-np.pi/2,\n",
    "     alpha2:        0, a2:   1.25, d3:     0,\n",
    "     alpha3: -np.pi/2, a3: -0.054, d4:  1.50,\n",
    "     alpha4:  np.pi/2, a4:      0, d5:     0,\n",
    "     alpha5: -np.pi/2, a5:      0, d6:     0,\n",
    "     alpha6:        0, a6:      0, d7: 0.303, q7: 0}\n",
    "\n",
    "# General rotations around axes\n",
    "\n",
    "R_z = Matrix([[       cos(q1),    -sin(q1),             0, 0],\n",
    "              [       sin(q1),     cos(q1),             0, 0],\n",
    "              [             0,           0,             1, 0],\n",
    "              [             0,           0,             0, 1]])\n",
    "R_y = Matrix([[       cos(q1),           0,       sin(q1), 0],\n",
    "              [             0,           1,             0, 0],\n",
    "              [      -sin(q1),           0,       cos(q1), 0],\n",
    "              [             0,           0,             0, 1]])\n",
    "R_x = Matrix([[             1,           0,             0, 0],\n",
    "              [             0,     cos(q1),      -sin(q1), 0],\n",
    "              [             0,     sin(q1),       cos(q1), 0],\n",
    "              [             0,           0,             0, 1]])\n",
    "\n",
    "# Define Modified DH Transformation matrix\n",
    "R_corr = simplify(R_z.evalf(subs={q1: np.pi}) * R_y.evalf(subs={q1: -np.pi/2}))\n",
    "print(\"Finished simplifying R_corr\")\n",
    "\n",
    "# Create individual transformation matrices\n",
    "T0_1 = Matrix([[            cos(q1),            -sin(q1),            0,              a0],\n",
    "               [sin(q1)*cos(alpha0), cos(q1)*cos(alpha0), -sin(alpha0), -sin(alpha0)*d1],\n",
    "               [sin(q1)*sin(alpha0), cos(q1)*sin(alpha0),  cos(alpha0),  cos(alpha0)*d1],\n",
    "               [                  0,                   0,            0,               1]])\n",
    "T0_1 = T0_1.subs(s)\n",
    "\n",
    "T1_2 = Matrix([[            cos(q2),            -sin(q2),            0,              a1],\n",
    "               [sin(q2)*cos(alpha1), cos(q2)*cos(alpha1), -sin(alpha1), -sin(alpha1)*d2],\n",
    "               [sin(q2)*sin(alpha1), cos(q2)*sin(alpha1),  cos(alpha1),  cos(alpha1)*d2],\n",
    "               [                  0,                   0,            0,               1]])\n",
    "T1_2 = T1_2.subs(s)\n",
    "\n",
    "\n",
    "T2_3 = Matrix([[            cos(q3),            -sin(q3),            0,              a2],\n",
    "               [sin(q3)*cos(alpha2), cos(q3)*cos(alpha2), -sin(alpha2), -sin(alpha2)*d3],\n",
    "               [sin(q3)*sin(alpha2), cos(q3)*sin(alpha2),  cos(alpha2),  cos(alpha2)*d3],\n",
    "               [                  0,                   0,            0,               1]])\n",
    "T2_3 = T2_3.subs(s)\n",
    "\n",
    "T3_4 = Matrix([[            cos(q4),            -sin(q4),            0,              a3],\n",
    "               [sin(q4)*cos(alpha3), cos(q4)*cos(alpha3), -sin(alpha3), -sin(alpha3)*d4],\n",
    "               [sin(q4)*sin(alpha3), cos(q4)*sin(alpha3),  cos(alpha3),  cos(alpha3)*d4],\n",
    "               [                  0,                   0,            0,               1]])\n",
    "T3_4 = T3_4.subs(s)\n",
    "\n",
    "T4_5 = Matrix([[            cos(q5),            -sin(q5),            0,              a4],\n",
    "               [sin(q5)*cos(alpha4), cos(q5)*cos(alpha4), -sin(alpha4), -sin(alpha4)*d5],\n",
    "               [sin(q5)*sin(alpha4), cos(q5)*sin(alpha4),  cos(alpha4),  cos(alpha4)*d5],\n",
    "               [                  0,                   0,            0,               1]])\n",
    "T4_5 = T4_5.subs(s)\n",
    "\n",
    "T5_6 = Matrix([[            cos(q6),            -sin(q6),            0,              a5],\n",
    "               [sin(q6)*cos(alpha5), cos(q6)*cos(alpha5), -sin(alpha5), -sin(alpha5)*d6],\n",
    "               [sin(q6)*sin(alpha5), cos(q6)*sin(alpha5),  cos(alpha5),  cos(alpha5)*d6],\n",
    "               [                  0,                   0,            0,               1]])\n",
    "T5_6 = T5_6.subs(s)\n",
    "\n",
    "T6_G = Matrix([[            cos(q7),            -sin(q7),            0,              a6],\n",
    "               [sin(q7)*cos(alpha6), cos(q7)*cos(alpha6), -sin(alpha6), -sin(alpha6)*d7],\n",
    "               [sin(q7)*sin(alpha6), cos(q7)*sin(alpha6),  cos(alpha6),  cos(alpha6)*d7],\n",
    "               [                  0,                   0,            0,               1]])\n",
    "T6_G = T6_G.subs(s)\n",
    "print('finished subbing DH params')\n"
   ]
  },
  {
   "cell_type": "code",
   "execution_count": 3,
   "metadata": {},
   "outputs": [
    {
     "name": "stdout",
     "output_type": "stream",
     "text": [
      "Done simplifying T0_2\n",
      "Done simplifying T0_3\n",
      "Done simplifying T0_4\n",
      "Done simplifying T0_5\n",
      "Done simplifying T0_6\n",
      "Done simplifying T0_G\n",
      "Done simpliying T_total\n",
      "finished simplifying homogeneous transforms\n"
     ]
    }
   ],
   "source": [
    "\n",
    "# Composition of Homogeneous Tranforms\n",
    "T0_2 = simplify(T0_1 * T1_2)\n",
    "print('Done simplifying T0_2')\n",
    "T0_3 = simplify(T0_2 * T2_3)\n",
    "print('Done simplifying T0_3')\n",
    "T0_4 = simplify(T0_3 * T3_4)\n",
    "print('Done simplifying T0_4')\n",
    "T0_5 = simplify(T0_4 * T4_5)\n",
    "print('Done simplifying T0_5')\n",
    "T0_6 = simplify(T0_5 * T5_6)\n",
    "print('Done simplifying T0_6')\n",
    "T0_G = simplify(T0_6 * T6_G)\n",
    "print('Done simplifying T0_G')\n",
    "T_total = simplify(T0_G * R_corr)\n",
    "print('Done simpliying T_total')\n",
    "print(\"finished simplifying homogeneous transforms\")\n"
   ]
  },
  {
   "cell_type": "code",
   "execution_count": 4,
   "metadata": {},
   "outputs": [
    {
     "name": "stdout",
     "output_type": "stream",
     "text": [
      "('T0_1 = ', Matrix([\n",
      "[1.0,   0,   0,    0],\n",
      "[  0, 1.0,   0,    0],\n",
      "[  0,   0, 1.0, 0.75],\n",
      "[  0,   0,   0,  1.0]]))\n",
      "('T0_2 = ', Matrix([\n",
      "[ 6.12323399573677e-17,                   1.0,                    0, 0.35],\n",
      "[-6.12323399573677e-17,  3.74939945665464e-33,                  1.0,    0],\n",
      "[                  1.0, -6.12323399573677e-17, 6.12323399573677e-17, 0.75],\n",
      "[                    0,                     0,                    0,  1.0]]))\n",
      "('T0_3 = ', Matrix([\n",
      "[ 6.12323399573677e-17,                   1.0,                    0,                  0.35],\n",
      "[-6.12323399573677e-17,  3.74939945665464e-33,                  1.0, -7.65404249467096e-17],\n",
      "[                  1.0, -6.12323399573677e-17, 6.12323399573677e-17,                   2.0],\n",
      "[                    0,                     0,                    0,                   1.0]]))\n",
      "('T0_4 = ', Matrix([\n",
      "[ 6.12323399573677e-17,  6.12323399573677e-17,                   1.0,                 1.85],\n",
      "[-6.12323399573677e-17,                  -1.0,  6.12323399573677e-17, 1.86146313470398e-17],\n",
      "[                  1.0, -6.12323399573677e-17, -6.12323399573677e-17,                1.946],\n",
      "[                    0,                     0,                     0,                  1.0]]))\n",
      "('T0_5 = ', Matrix([\n",
      "[ 6.12323399573677e-17,                   1.0,              0.e-141,                 1.85],\n",
      "[-6.12323399573677e-17,  3.74939945665464e-33,                  1.0, 1.86146313470398e-17],\n",
      "[                  1.0, -6.12323399573677e-17, 6.12323399573677e-17,                1.946],\n",
      "[                    0,                     0,                    0,                  1.0]]))\n",
      "('T0_6 = ', Matrix([\n",
      "[ 6.12323399573677e-17,  6.12323399573677e-17,                   1.0,                 1.85],\n",
      "[-6.12323399573677e-17,                  -1.0,  6.12323399573677e-17, 1.86146313470398e-17],\n",
      "[                  1.0, -6.12323399573677e-17, -6.12323399573677e-17,                1.946],\n",
      "[                    0,                     0,                     0,                  1.0]]))\n",
      "('T0_G = ', Matrix([\n",
      "[ 6.12323399573677e-17,  6.12323399573677e-17,                   1.0,                2.153],\n",
      "[-6.12323399573677e-17,                  -1.0,  6.12323399573677e-17, 3.71680303541222e-17],\n",
      "[                  1.0, -6.12323399573677e-17, -6.12323399573677e-17,                1.946],\n",
      "[                    0,                     0,                     0,                  1.0]]))\n",
      "('T_total = ', Matrix([\n",
      "[0.0195579850510281, 0.887177076613807,  0.461014446575942,  1.81019204905254],\n",
      "[ 0.777027429291831, 0.276676473412431, -0.565401187819932, 0.998270732042695],\n",
      "[-0.629162824194876, 0.369278978268516, -0.683949688836897,  1.15058207943137],\n",
      "[                 0,                 0,                  0,               1.0]]))\n"
     ]
    }
   ],
   "source": [
    "# Testing of transforms\n",
    "print(\"T0_1 = \", T0_1.evalf(subs={q1: 0, q2: 0, q3: 0, q4: 0, q5: 0, q6: 0}))\n",
    "print(\"T0_2 = \", T0_2.evalf(subs={q1: 0, q2: 0, q3: 0, q4: 0, q5: 0, q6: 0}))\n",
    "print(\"T0_3 = \", T0_3.evalf(subs={q1: 0, q2: 0, q3: 0, q4: 0, q5: 0, q6: 0}))\n",
    "print(\"T0_4 = \", T0_4.evalf(subs={q1: 0, q2: 0, q3: 0, q4: 0, q5: 0, q6: 0}))\n",
    "print(\"T0_5 = \", T0_5.evalf(subs={q1: 0, q2: 0, q3: 0, q4: 0, q5: 0, q6: 0}))\n",
    "print(\"T0_6 = \", T0_6.evalf(subs={q1: 0, q2: 0, q3: 0, q4: 0, q5: 0, q6: 0}))\n",
    "print(\"T0_G = \", T0_G.evalf(subs={q1: 0, q2: 0, q3: 0, q4: 0, q5: 0, q6: 0}))\n",
    "print(\"T_total = \", T_total.evalf(subs={q1: 0.4, q2: 0.2, q3: 0.2, q4: 1, q5: 1, q6: 1}))"
   ]
  },
  {
   "cell_type": "code",
   "execution_count": 5,
   "metadata": {},
   "outputs": [
    {
     "ename": "NameError",
     "evalue": "name 'c' is not defined",
     "output_type": "error",
     "traceback": [
      "\u001b[1;31m---------------------------------------------------------------------------\u001b[0m",
      "\u001b[1;31mNameError\u001b[0m                                 Traceback (most recent call last)",
      "\u001b[1;32m<ipython-input-5-6a5932aeb659>\u001b[0m in \u001b[0;36m<module>\u001b[1;34m()\u001b[0m\n\u001b[0;32m     21\u001b[0m                 [ 0,  0, 1]])\n\u001b[0;32m     22\u001b[0m \u001b[0mgripper_rot\u001b[0m \u001b[1;33m=\u001b[0m \u001b[0my_rot\u001b[0m \u001b[1;33m*\u001b[0m \u001b[0mz_rot\u001b[0m\u001b[1;33m\u001b[0m\u001b[0m\n\u001b[1;32m---> 23\u001b[1;33m \u001b[1;32mprint\u001b[0m\u001b[1;33m(\u001b[0m\u001b[0mc\u001b[0m\u001b[1;33m)\u001b[0m\u001b[1;33m\u001b[0m\u001b[0m\n\u001b[0m\u001b[0;32m     24\u001b[0m \u001b[1;33m\u001b[0m\u001b[0m\n\u001b[0;32m     25\u001b[0m \u001b[1;31m# Gripper rotation matrix and translation the same, therefore forward kinematics good!! :)\u001b[0m\u001b[1;33m\u001b[0m\u001b[1;33m\u001b[0m\u001b[0m\n",
      "\u001b[1;31mNameError\u001b[0m: name 'c' is not defined"
     ]
    }
   ],
   "source": [
    "\"\"\"\n",
    "$ rosrun tf tf_echo base_link link_6\n",
    "At time 1499826948.220\n",
    "- Translation: [2.043, 0.000, 1.947]\n",
    "- Rotation: in Quaternion [0.000, -0.000, 0.000, 1.000]\n",
    "            in RPY (radian) [0.000, -0.000, 0.000]\n",
    "            in RPY (degree) [0.000, -0.017, 0.000]\n",
    "\n",
    "\"\"\"\n",
    "# Verify with own transform\n",
    "# Check T0_G transform\n",
    "# pi/2 intrinsic rot around y, pi intrinsic rot around z\n",
    "# Distance of gripper is (2.153, 0, 1.947)\n",
    "\n",
    "\n",
    "y_rot = Matrix([[0, 0, 1],\n",
    "                [0, 1, 0],\n",
    "                [-1, 0, 0]])\n",
    "z_rot = Matrix([[-1,  0, 0],\n",
    "                [ 0, -1, 0],\n",
    "                [ 0,  0, 1]])\n",
    "gripper_rot = y_rot * z_rot\n",
    "print(c)\n",
    "\n",
    "# Gripper rotation matrix and translation the same, therefore forward kinematics good!! :)"
   ]
  }
 ],
 "metadata": {
  "kernelspec": {
   "display_name": "Python 2",
   "language": "python",
   "name": "python2"
  },
  "language_info": {
   "codemirror_mode": {
    "name": "ipython",
    "version": 2
   },
   "file_extension": ".py",
   "mimetype": "text/x-python",
   "name": "python",
   "nbconvert_exporter": "python",
   "pygments_lexer": "ipython2",
   "version": "2.7.13"
  }
 },
 "nbformat": 4,
 "nbformat_minor": 2
}
