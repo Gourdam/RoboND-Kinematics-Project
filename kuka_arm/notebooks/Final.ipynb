{
 "cells": [
  {
   "cell_type": "code",
   "execution_count": 1,
   "metadata": {
    "collapsed": true
   },
   "outputs": [],
   "source": [
    "import numpy as np\n",
    "import math\n",
    "from numpy import array\n",
    "import sympy\n",
    "from sympy import symbols,  cos, sin, pi, simplify, sqrt, atan2, acos, Transpose\n",
    "from sympy.matrices import Matrix"
   ]
  },
  {
   "cell_type": "code",
   "execution_count": 2,
   "metadata": {
    "collapsed": true
   },
   "outputs": [],
   "source": [
    "def get_R0_6(alpha, beta, gamma):\n",
    "    r11 = cos(alpha) * cos(beta)\n",
    "    r12 = (cos(alpha)* sin(beta) * sin(gamma)) - (sin(alpha)*cos(gamma))\n",
    "    r13 = (cos(alpha) * sin(beta) * cos(gamma)) + (sin(alpha)*sin(gamma))\n",
    "    r21 = sin(alpha) * cos(beta) * 1.0\n",
    "    r22 = (sin(alpha) * sin(beta) * sin(gamma)) + (cos(alpha) * cos(gamma))\n",
    "    r23 = (sin(alpha)*sin(beta)*cos(gamma)) - (cos(alpha)*sin(gamma))\n",
    "    r31 = -sin(beta)\n",
    "    r32 = cos(beta) * sin(gamma)\n",
    "    r33 = cos(beta)*cos(gamma)\n",
    "    return Matrix([[r11, r12, r13],\n",
    "                   [r21, r22, r23],\n",
    "                   [r31, r32, r33]])\n",
    "\n",
    "def find_wrist_center(px, py, pz, roll, pitch, yaw):\n",
    "    end_effector_length = 0.303\n",
    "    wx = px - (end_effector_length) * 1.0 * cos(yaw) * cos(pitch)\n",
    "    wy = py - (end_effector_length) * 1.0 * sin(yaw) * cos(pitch)\n",
    "    wz = pz - (end_effector_length) * -1.0 * sin(pitch)\n",
    "    return wx, wy, wz"
   ]
  },
  {
   "cell_type": "code",
   "execution_count": 3,
   "metadata": {
    "collapsed": true
   },
   "outputs": [],
   "source": [
    "# Define DH param symbols\n",
    "q1, q2, q3, q4, q5, q6, q7 = symbols('q1:8') # theta_1\n",
    "d1, d2, d3, d4, d5, d6, d7 = symbols('d1:8') # d paramater\n",
    "a0, a1, a2, a3, a4, a5, a6 = symbols('a0:7')\n",
    "alpha0, alpha1, alpha2, alpha3, alpha4, alpha5, alpha6 = symbols('alpha0:7')\n",
    "\n",
    "\n",
    "# Joint angle symbols\n",
    "# theta1, theta2, theta3, theta4, theta5, theta6 = 0\n",
    "\n",
    "\n",
    "# Modified DH params\n",
    "dh = {alpha0:     0, a0:      0, d1:  0.75,\n",
    "      alpha1: -pi/2, a1:   0.35, d2:     0, q2: q2 - pi/2,\n",
    "      alpha2:     0, a2:   1.25, d3:     0,\n",
    "      alpha3: -pi/2, a3: -0.054, d4:  1.50,\n",
    "      alpha4:  pi/2, a4:      0, d5:     0,\n",
    "      alpha5: -pi/2, a5:      0, d6:     0,\n",
    "      alpha6:     0, a6:      0, d7: 0.303, q7: 0}\n",
    "\n",
    "# General rotations around axes\n",
    "\n",
    "R_z = Matrix([[       cos(q1),    -sin(q1),             0, 0],\n",
    "              [       sin(q1),     cos(q1),             0, 0],\n",
    "              [             0,           0,             1, 0],\n",
    "              [             0,           0,             0, 1]])\n",
    "R_y = Matrix([[       cos(q1),           0,       sin(q1), 0],\n",
    "              [             0,           1,             0, 0],\n",
    "              [      -sin(q1),           0,       cos(q1), 0],\n",
    "              [             0,           0,             0, 1]])\n",
    "R_x = Matrix([[             1,           0,             0, 0],\n",
    "              [             0,     cos(q1),      -sin(q1), 0],\n",
    "              [             0,     sin(q1),       cos(q1), 0],\n",
    "              [             0,           0,             0, 1]])\n",
    "\n",
    "# Define Modified DH Transformation matrix\n",
    "R_corr = simplify(R_z.evalf(subs={q1: pi}) * R_y.evalf(subs={q1: -pi/2}))"
   ]
  },
  {
   "cell_type": "code",
   "execution_count": 4,
   "metadata": {
    "collapsed": true
   },
   "outputs": [],
   "source": [
    "T0_1 = Matrix([[            cos(q1),            -sin(q1),            0,              a0],\n",
    "               [sin(q1)*cos(alpha0), cos(q1)*cos(alpha0), -sin(alpha0), -sin(alpha0)*d1],\n",
    "               [sin(q1)*sin(alpha0), cos(q1)*sin(alpha0),  cos(alpha0),  cos(alpha0)*d1],\n",
    "               [                  0,                   0,            0,               1]])\n",
    "T0_1 = T0_1.subs(dh)\n",
    "\n",
    "T1_2 = Matrix([[            cos(q2),            -sin(q2),            0,              a1],\n",
    "               [sin(q2)*cos(alpha1), cos(q2)*cos(alpha1), -sin(alpha1), -sin(alpha1)*d2],\n",
    "               [sin(q2)*sin(alpha1), cos(q2)*sin(alpha1),  cos(alpha1),  cos(alpha1)*d2],\n",
    "               [                  0,                   0,            0,               1]])\n",
    "T1_2 = T1_2.subs(dh)\n",
    "\n",
    "\n",
    "T2_3 = Matrix([[            cos(q3),            -sin(q3),            0,              a2],\n",
    "               [sin(q3)*cos(alpha2), cos(q3)*cos(alpha2), -sin(alpha2), -sin(alpha2)*d3],\n",
    "               [sin(q3)*sin(alpha2), cos(q3)*sin(alpha2),  cos(alpha2),  cos(alpha2)*d3],\n",
    "               [                  0,                   0,            0,               1]])\n",
    "T2_3 = T2_3.subs(dh)\n",
    "T3_4 = Matrix([[            cos(q4),            -sin(q4),            0,              a3],\n",
    "               [sin(q4)*cos(alpha3), cos(q4)*cos(alpha3), -sin(alpha3), -sin(alpha3)*d4],\n",
    "               [sin(q4)*sin(alpha3), cos(q4)*sin(alpha3),  cos(alpha3),  cos(alpha3)*d4],\n",
    "               [                  0,                   0,            0,               1]])\n",
    "T3_4 = T3_4.subs(dh)\n",
    "\n",
    "T4_5 = Matrix([[            cos(q5),            -sin(q5),            0,              a4],\n",
    "               [sin(q5)*cos(alpha4), cos(q5)*cos(alpha4), -sin(alpha4), -sin(alpha4)*d5],\n",
    "               [sin(q5)*sin(alpha4), cos(q5)*sin(alpha4),  cos(alpha4),  cos(alpha4)*d5],\n",
    "               [                  0,                   0,            0,               1]])\n",
    "T4_5 = T4_5.subs(dh)\n",
    "\n",
    "T5_6 = Matrix([[            cos(q6),            -sin(q6),            0,              a5],\n",
    "               [sin(q6)*cos(alpha5), cos(q6)*cos(alpha5), -sin(alpha5), -sin(alpha5)*d6],\n",
    "               [sin(q6)*sin(alpha5), cos(q6)*sin(alpha5),  cos(alpha5),  cos(alpha5)*d6],\n",
    "               [                  0,                   0,            0,               1]])\n",
    "T5_6 = T5_6.subs(dh)\n",
    "\n",
    "T6_G = Matrix([[            cos(q7),            -sin(q7),            0,              a6],\n",
    "               [sin(q7)*cos(alpha6), cos(q7)*cos(alpha6), -sin(alpha6), -sin(alpha6)*d7],\n",
    "               [sin(q7)*sin(alpha6), cos(q7)*sin(alpha6),  cos(alpha6),  cos(alpha6)*d7],\n",
    "               [                  0,                   0,            0,               1]])\n",
    "T6_G = T6_G.subs(dh)"
   ]
  },
  {
   "cell_type": "code",
   "execution_count": 5,
   "metadata": {},
   "outputs": [
    {
     "name": "stdout",
     "output_type": "stream",
     "text": [
      "Done simplifying T0_2\n",
      "Done simplifying T0_3\n"
     ]
    }
   ],
   "source": [
    "T0_2 = simplify(T0_1 * T1_2)\n",
    "print('Done simplifying T0_2')\n",
    "T0_3 = simplify(T0_2 * T2_3)\n",
    "print('Done simplifying T0_3')"
   ]
  },
  {
   "cell_type": "code",
   "execution_count": 6,
   "metadata": {
    "collapsed": true
   },
   "outputs": [],
   "source": [
    "# x,y,z,alpha(yaw),beta(pitch),gamma(roll) = 1.801, 1.005, 1.148,1.557, 0.683, 2.649\n",
    "# required result : theta1,theta2,theta3,theta4,theta5,theta6 = 0.4,0.2,0.2,1,1,1\n",
    "x,y,z = 1.801, 1.005, 1.148\n",
    "yaw, pitch, roll = 1.557, 0.683, 2.649 \n",
    "\n",
    "# Test\n",
    "# x, y, z = 2.153, 0.000, 1.947\n",
    "# roll, pitch, yaw = 0, 0, 0"
   ]
  },
  {
   "cell_type": "code",
   "execution_count": 7,
   "metadata": {
    "collapsed": true
   },
   "outputs": [],
   "source": [
    "wx, wy, wz = find_wrist_center(x, y, z, roll, pitch, yaw)"
   ]
  },
  {
   "cell_type": "code",
   "execution_count": 8,
   "metadata": {},
   "outputs": [
    {
     "name": "stdout",
     "output_type": "stream",
     "text": [
      "1.60571404854478 0.589230241460075 1.71041219685349 1.50097168527591\n",
      "0.351701920260096\n",
      "1.02077785025322\n",
      "(0.673520239704882, 0.897304620098513)\n",
      "(0.351701920260096, 1.02077785025322)\n",
      "thetas\n",
      "0.404667584932112 0.198345089290080 0.204089580864693\n"
     ]
    }
   ],
   "source": [
    "theta1 = atan2(wy, wx)\n",
    "\n",
    "s1 = sqrt(wx*wx + wy*wy) - dh[a1]\n",
    "s2 = wz - dh[d1]\n",
    "s3 = sqrt(s1*s1 + s2*s2)\n",
    "s4 = sqrt(dh[a3]*dh[a3] + dh[d4]*dh[d4])\n",
    "\n",
    "wx0, wy0, wz0 = 1.85, 0, 1.947\n",
    "s1_initial = sqrt(wx0*wx0 + wy0*wy0) - dh[a1]\n",
    "s2_initial = wz0 - dh[d1]\n",
    "s3_initial = sqrt(s1_initial*s1_initial + s2_initial*s2_initial)\n",
    "s4_initial = s4\n",
    "\n",
    "beta1_initial = atan2(s2_initial, s1_initial)\n",
    "beta2_d_initial = (dh[a2]*dh[a2] + s3_initial*s3_initial - s4_initial*s4_initial) / (2.0*dh[a2]*s3_initial)\n",
    "beta2_initial = atan2(sqrt(1 - beta2_d_initial*beta2_d_initial), beta2_d_initial)\n",
    "\n",
    "beta1 = atan2(s2, s1)\n",
    "beta2_d = (dh[a2]*dh[a2] + s3*s3 - s4*s4) / (2*dh[a2]*s3)\n",
    "beta2 = atan2(sqrt(1 - beta2_d*beta2_d), beta2_d)\n",
    "\n",
    "print s1, s2, s3, s4\n",
    "print(beta1)\n",
    "print(beta2)\n",
    "\n",
    "# theta2\n",
    "print(beta1_initial, beta2_initial)\n",
    "print(beta1, beta2)\n",
    "theta2 = (beta1_initial + beta2_initial) - (beta1 + beta2)\n",
    "\n",
    "# Finding theta3\n",
    "# beta3_intiial\n",
    "beta4 = pi/2 - atan2(dh[a3], dh[d4])\n",
    "beta3_initial_d = (dh[a2]*dh[a2] + s4_initial*s4_initial - s3_initial*s3_initial) / (2.0*dh[a2]*s4_initial) \n",
    "beta3_initial = atan2(sqrt(1 - beta3_initial_d*beta3_initial_d), beta3_initial_d)\n",
    "# beta3_initial = 1.5348118667\n",
    "\n",
    "# beta3\n",
    "beta3_d = (dh[a2]*dh[a2] + s4*s4 - s3*s3) / (2.0*dh[a2]*s4)\n",
    "beta3 = atan2(sqrt(1 - beta3_d*beta3_d), beta3_d)\n",
    "\n",
    "# theta3\n",
    "theta3 = beta3_initial - beta3\n",
    "\n",
    "print(\"thetas\")\n",
    "print theta1, theta2, theta3"
   ]
  },
  {
   "cell_type": "code",
   "execution_count": 9,
   "metadata": {},
   "outputs": [
    {
     "name": "stdout",
     "output_type": "stream",
     "text": [
      "Matrix([[0.0107012345132777, 0.885143468653330, 0.465195145589723], [0.775609023398699, 0.286281429692164, -0.562559850892265], [-0.631122909109160, 0.366829637452813, -0.683461696574014]])\n",
      "Matrix([[-sin(q4)*sin(q6) + cos(q4)*cos(q5)*cos(q6), -sin(q4)*cos(q6) - sin(q6)*cos(q4)*cos(q5), -sin(q5)*cos(q4), -0.0540000000000000], [sin(q5)*cos(q6), -sin(q5)*sin(q6), cos(q5), 1.50000000000000], [-sin(q4)*cos(q5)*cos(q6) - sin(q6)*cos(q4), sin(q4)*sin(q6)*cos(q5) - cos(q4)*cos(q6), sin(q4)*sin(q5), 0], [0, 0, 0, 1]])\n",
      "Matrix([\n",
      "[-0.457249729874093,   0.700343934958169, -0.548125038013569,  1.85966699377873],\n",
      "[ 0.537208207807252,   0.708686537973418,  0.457351869308273,    1.437723984252],\n",
      "[ 0.708752443378214, -0.0853332506269317, -0.700277238201309, 0.214751990343599],\n",
      "[ -1.05881935819495,     1.2770696071745,  -1.22725295238973,  4.49102679249649]])\n",
      "0.992244124511953 1.09578123369778 0.922173508785066\n"
     ]
    }
   ],
   "source": [
    "R0_6 = get_R0_6(yaw, pitch, roll)\n",
    "print(R0_6)\n",
    "R0_6 = R0_6.row_join(Matrix([[x],\n",
    "                             [y],\n",
    "                             [z]]))\n",
    "R0_6 = R0_6.col_join(Matrix([[0, 0, 0, 1]]))\n",
    "\n",
    "# Get R0_3\n",
    "R0_3 = (T0_1 * T1_2 * T2_3).evalf(subs={q1: theta1, q2: theta2, q3: theta3})\n",
    "\n",
    "# Get R3_6\n",
    "var_R3_6 = T3_4 * T4_5 * T5_6\n",
    "R3_6 = Transpose(R0_3) * R0_6\n",
    "print(var_R3_6)\n",
    "print(R3_6)\n",
    "\n",
    "r23 = R3_6[1, 2]\n",
    "r33 = R3_6[2, 2]\n",
    "theta4 = -atan2(r33, r23)\n",
    "\n",
    "theta5 = acos(r23)\n",
    "\n",
    "r21 = R3_6[1, 0]\n",
    "r22 = R3_6[1, 1]\n",
    "theta6 = atan2(r22, r21)\n",
    "if math.isnan(theta4):\n",
    "    theta4 = 0\n",
    "else:\n",
    "    theta4 = theta4.evalf()\n",
    "if math.isnan(theta5):\n",
    "    theta5 = 0\n",
    "else:\n",
    "    theta5 = theta5.evalf()\n",
    "if math.isnan(theta6):\n",
    "    theta6 = 0\n",
    "else:\n",
    "    theta6 = theta6.evalf()\n",
    "print theta4, theta5, theta6\n"
   ]
  }
 ],
 "metadata": {
  "kernelspec": {
   "display_name": "Python 2",
   "language": "python",
   "name": "python2"
  },
  "language_info": {
   "codemirror_mode": {
    "name": "ipython",
    "version": 2
   },
   "file_extension": ".py",
   "mimetype": "text/x-python",
   "name": "python",
   "nbconvert_exporter": "python",
   "pygments_lexer": "ipython2",
   "version": "2.7.13"
  }
 },
 "nbformat": 4,
 "nbformat_minor": 2
}
