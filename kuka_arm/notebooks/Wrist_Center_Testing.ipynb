{
 "cells": [
  {
   "cell_type": "code",
   "execution_count": 1,
   "metadata": {
    "collapsed": true
   },
   "outputs": [],
   "source": [
    "import numpy as np\n",
    "from numpy import array\n",
    "from sympy import symbols,  cos, sin, pi, simplify, sqrt, atan2, acos, Transpose\n",
    "from sympy.matrices import Matrix"
   ]
  },
  {
   "cell_type": "code",
   "execution_count": 2,
   "metadata": {
    "collapsed": true
   },
   "outputs": [],
   "source": [
    "# Define DH param symbols\n",
    "q1, q2, q3, q4, q5, q6, q7 = symbols('q1:8') # theta_1\n",
    "d1, d2, d3, d4, d5, d6, d7 = symbols('d1:8') # d paramater\n",
    "a0, a1, a2, a3, a4, a5, a6 = symbols('a0:7')\n",
    "alpha0, alpha1, alpha2, alpha3, alpha4, alpha5, alpha6 = symbols('alpha0:7')\n",
    "\n",
    "\n",
    "# Joint angle symbols\n",
    "# theta1, theta2, theta3, theta4, theta5, theta6 = 0\n",
    "\n",
    "\n",
    "# Modified DH params\n",
    "dh_params = {alpha0:        0, a0:      0, d1:  0.75,\n",
    "             alpha1: -np.pi/2, a1:   0.35, d2:     0, q2: q2-np.pi/2,\n",
    "             alpha2:        0, a2:   1.25, d3:     0,\n",
    "             alpha3: -np.pi/2, a3: -0.054, d4:  1.50,\n",
    "             alpha4:  np.pi/2, a4:      0, d5:     0,\n",
    "             alpha5: -np.pi/2, a5:      0, d6:     0,\n",
    "             alpha6:        0, a6:      0, d7: 0.303, q7: 0}\n",
    "\n",
    "# General rotations around axes\n",
    "\n",
    "R_z = Matrix([[       cos(q1),    -sin(q1),             0, 0],\n",
    "              [       sin(q1),     cos(q1),             0, 0],\n",
    "              [             0,           0,             1, 0],\n",
    "              [             0,           0,             0, 1]])\n",
    "R_y = Matrix([[       cos(q1),           0,       sin(q1), 0],\n",
    "              [             0,           1,             0, 0],\n",
    "              [      -sin(q1),           0,       cos(q1), 0],\n",
    "              [             0,           0,             0, 1]])\n",
    "R_x = Matrix([[             1,           0,             0, 0],\n",
    "              [             0,     cos(q1),      -sin(q1), 0],\n",
    "              [             0,     sin(q1),       cos(q1), 0],\n",
    "              [             0,           0,             0, 1]])\n",
    "\n",
    "# Define Modified DH Transformation matrix\n",
    "R_corr = simplify(R_z.evalf(subs={q1: np.pi}) * R_y.evalf(subs={q1: -np.pi/2}))\n"
   ]
  },
  {
   "cell_type": "code",
   "execution_count": 3,
   "metadata": {
    "collapsed": true
   },
   "outputs": [],
   "source": [
    "# To rotate axis with yaw pitch roll, must do extrinsic XYZ rotation\n",
    "# rotated_Matrix = Z[yaw] * Y[pitch] * X[roll] * original_Matrix \n",
    "alpha = symbols('alpha')\n",
    "beta = symbols('beta')\n",
    "gamma = symbols('gamma')\n",
    "r11 = cos(alpha) * cos(beta)\n",
    "r12 = (cos(alpha)* sin(beta) * sin(gamma)) - (sin(alpha)*cos(gamma))\n",
    "r13 = (cos(alpha) * sin(beta) * cos(gamma)) + (sin(alpha)*sin(gamma))\n",
    "r21 = sin(alpha) * cos(beta) * 1.0\n",
    "r22 = (sin(alpha) * sin(beta) * sin(gamma)) + (cos(alpha) * cos(gamma))\n",
    "r23 = (sin(alpha)*sin(beta)*cos(gamma)) - (cos(alpha)*sin(gamma))\n",
    "r31 = -sin(beta)\n",
    "r32 = cos(beta) * sin(gamma)\n",
    "r33 = cos(beta)*cos(gamma)\n",
    "extrinsic_rot_Matrix = Matrix([[r11, r12, r13],\n",
    "                               [r21, r22, r23],\n",
    "                               [r31, r32, r33]])\n"
   ]
  },
  {
   "cell_type": "code",
   "execution_count": 4,
   "metadata": {
    "collapsed": true
   },
   "outputs": [],
   "source": [
    "test_cases = {\n",
    "    1: {\n",
    "        \"px\": 2.153,\n",
    "        \"py\": 0.0,\n",
    "        \"pz\": 1.946,\n",
    "        \"roll\": 0.0,\n",
    "        \"pitch\": 0.0,\n",
    "        \"yaw\": 0.0\n",
    "    },\n",
    "}"
   ]
  },
  {
   "cell_type": "code",
   "execution_count": 6,
   "metadata": {},
   "outputs": [
    {
     "name": "stdout",
     "output_type": "stream",
     "text": [
      "extrinsic rotated\n",
      "Matrix([\n",
      "[6.12323399573677e-17*sin(alpha)*sin(gamma) + 6.12323399573677e-17*sin(beta)*cos(alpha)*cos(gamma) + 1.0*cos(alpha)*cos(beta)],\n",
      "[6.12323399573677e-17*sin(alpha)*sin(beta)*cos(gamma) + 1.0*sin(alpha)*cos(beta) - 6.12323399573677e-17*sin(gamma)*cos(alpha)],\n",
      "[                                                                  -1.0*sin(beta) + 6.12323399573677e-17*cos(beta)*cos(gamma)]])\n",
      "Wrist center from Matrix:  (1.85000000000000, -2.19268014489138e-142, 1.94600000000000)\n",
      "Wrist center from hard-coded:  (1.85000000000000, 0.0, 1.94600000000000)\n"
     ]
    }
   ],
   "source": [
    "\"\"\"\n",
    "To find the wrist center, one must use the roll, pitch, and yaw taken from the URDF\n",
    "defined gripper and transform it into the DH param version. This is done by reversing\n",
    "the R_corr (take the inverse). Probably faster to hard code the matrix though than\n",
    "calculate the inverse everytime\n",
    "\n",
    "Once R0_6 is found wrt DH params, we can use the n vector in the matrix to find\n",
    "the wrist\n",
    "\n",
    "WE DID IT!!!\n",
    "\"\"\"\n",
    "def find_wrist_center(px, py, pz, roll, pitch, yaw):\n",
    "    end_effector_length = 0.303\n",
    "    R0_6 = extrinsic_rot_Matrix.evalf(subs={alpha: roll, beta: pitch, gamma: yaw})\n",
    "    # undo rotation to URDF orientation, back to DH params\n",
    "    R0_6 = R0_6 * R_corr[0:3, 0:3].inv()\n",
    "    print(\"extrinsic rotated\")\n",
    "    print(extrinsic_rot_Matrix * R_corr[0:3, 0:3].inv())[:, 2]\n",
    "    \n",
    "    wx = px - (end_effector_length) * R0_6[0, 2]\n",
    "    wy = py - (end_effector_length) * R0_6[1, 2]\n",
    "    wz = pz - (end_effector_length) * R0_6[2, 2]\n",
    "    print \"Wrist center from Matrix: \", (wx, wy, wz)\n",
    "    \n",
    "    wx = px - (end_effector_length) * 1.0 * cos(yaw) * cos(pitch)\n",
    "    wy = py - (end_effector_length) * 1.0 * sin(yaw) * cos(pitch)\n",
    "    wz = pz - (end_effector_length) * -1.0 * sin(pitch)\n",
    "    print \"Wrist center from hard-coded: \", (wx, wy, wz)\n",
    "    \n",
    "find_wrist_center(test_cases[1]['px'], test_cases[1]['py'], test_cases[1]['pz'], test_cases[1]['roll'], test_cases[1]['pitch'], test_cases[1]['yaw'])\n",
    "\n",
    "# Final version\n",
    "def find_wrist_center(px, py, pz, roll, pitch, yaw):\n",
    "    end_effector_length = 0.303\n",
    "    wx = px - (end_effector_length) * 1.0 * cos(yaw) * cos(pitch)\n",
    "    wy = py - (end_effector_length) * 1.0 * sin(yaw) * cos(pitch)\n",
    "    wz = pz - (end_effector_length) * -1.0 * sin(pitch)\n",
    "    return wx, wy, wz\n",
    "\n",
    "# Since R0_6 = Rrpy\n",
    "def get_R0_6(alpha, beta, gamma):\n",
    "    r11 = cos(alpha) * cos(beta)\n",
    "    r12 = (cos(alpha)* sin(beta) * sin(gamma)) - (sin(alpha)*cos(gamma))\n",
    "    r13 = (cos(alpha) * sin(beta) * cos(gamma)) + (sin(alpha)*sin(gamma))\n",
    "    r21 = sin(alpha) * cos(beta) * 1.0\n",
    "    r22 = (sin(alpha) * sin(beta) * sin(gamma)) + (cos(alpha) * cos(gamma))\n",
    "    r23 = (sin(alpha)*sin(beta)*cos(gamma)) - (cos(alpha)*sin(gamma))\n",
    "    r31 = -sin(beta)\n",
    "    r32 = cos(beta) * sin(gamma)\n",
    "    r33 = cos(beta)*cos(gamma)\n",
    "    return Matrix([[r11, r12, r13],\n",
    "                   [r21, r22, r23],\n",
    "                   [r31, r32, r33]])"
   ]
  },
  {
   "cell_type": "code",
   "execution_count": null,
   "metadata": {
    "collapsed": true
   },
   "outputs": [],
   "source": []
  }
 ],
 "metadata": {
  "kernelspec": {
   "display_name": "Python 2",
   "language": "python",
   "name": "python2"
  },
  "language_info": {
   "codemirror_mode": {
    "name": "ipython",
    "version": 2
   },
   "file_extension": ".py",
   "mimetype": "text/x-python",
   "name": "python",
   "nbconvert_exporter": "python",
   "pygments_lexer": "ipython2",
   "version": "2.7.13"
  }
 },
 "nbformat": 4,
 "nbformat_minor": 2
}
